{
  "nbformat": 4,
  "nbformat_minor": 0,
  "metadata": {
    "kernelspec": {
      "display_name": "Python 3",
      "language": "python",
      "name": "python3"
    },
    "language_info": {
      "codemirror_mode": {
        "name": "ipython",
        "version": 3
      },
      "file_extension": ".py",
      "mimetype": "text/x-python",
      "name": "python",
      "nbconvert_exporter": "python",
      "pygments_lexer": "ipython3",
      "version": "3.7.3"
    },
    "colab": {
      "name": "Copy of B2.4.2 - Speech_Recognition Student Sheet.ipynb",
      "provenance": [],
      "collapsed_sections": []
    }
  },
  "cells": [
    {
      "cell_type": "markdown",
      "metadata": {
        "id": "J0_X7rBQg_4C"
      },
      "source": [
        "<h1 align=center><font size=5>Speech Recognition</font></h1>"
      ]
    },
    {
      "cell_type": "markdown",
      "metadata": {
        "id": "K3_B1MGig_4E"
      },
      "source": [
        "## Table of contents\n",
        "\n",
        "- [Objective](#obj)\n",
        "- [Data](#data)\n",
        "- [Data Preprocessing](#data_preproc)\n",
        "- [Time Domain Model](#time_model)\n",
        "- [Time-Frequency Domain Model](#time_freq_model)"
      ]
    },
    {
      "cell_type": "markdown",
      "metadata": {
        "id": "qEKmZIhgg_4G"
      },
      "source": [
        "## Objective <a id='obj'></a>"
      ]
    },
    {
      "cell_type": "markdown",
      "metadata": {
        "id": "TxJQWZzVg_4H"
      },
      "source": [
        "In this notebook, we will learn how to deal with audio/voice singals. Accordingly, we will build time domain and time-frequency domain models for the purpose of speech classification."
      ]
    },
    {
      "cell_type": "markdown",
      "metadata": {
        "id": "f41VeRNZg_4I"
      },
      "source": [
        "## 1) Data <a id='data'></a>"
      ]
    },
    {
      "cell_type": "markdown",
      "metadata": {
        "id": "gvVuV1XIg_4J"
      },
      "source": [
        "Let us consider the Free Spoken Digit Dataset (FSDD), so called \"speech MNIST\" dataset. The dataset contains a set of recorded spoken digits in wav formats. You can access to this dataset in the following URL: https://github.com/Jakobovski/free-spoken-digit-dataset"
      ]
    },
    {
      "cell_type": "markdown",
      "metadata": {
        "id": "Q-bc1joTg_4L"
      },
      "source": [
        "&#x270d; 1.1) Download the dataset\n",
        "\n",
        "This can be directly download to your google drive without downloading locally and then uploading"
      ]
    },
    {
      "cell_type": "code",
      "metadata": {
        "id": "r4y86DBFg_4N",
        "colab": {
          "base_uri": "https://localhost:8080/"
        },
        "outputId": "bbd2130c-021e-43f2-b144-4b532cf6eb56"
      },
      "source": [
        "!git clone https://github.com/Jakobovski/free-spoken-digit-dataset/"
      ],
      "execution_count": 22,
      "outputs": [
        {
          "output_type": "stream",
          "text": [
            "fatal: destination path 'free-spoken-digit-dataset' already exists and is not an empty directory.\n"
          ],
          "name": "stdout"
        }
      ]
    },
    {
      "cell_type": "markdown",
      "metadata": {
        "id": "mujgeKDOg_4Q"
      },
      "source": [
        "&#x270d; 1.2) LibROSA is a python package for music and audio analysis\n",
        "\n",
        " Load an audio file using librosa.load. To preserve the native sampling rate of the file, **use `sr=None`.**\n",
        "\n"
      ]
    },
    {
      "cell_type": "code",
      "metadata": {
        "id": "NFet42q8g_4R"
      },
      "source": [
        "import os\n",
        "import librosa # !pip install librosa\n",
        "audio_path = os.path.join(os.getcwd(), '/content/free-spoken-digit-dataset/recordings')\n",
        "audio_files = os.listdir(audio_path) \n",
        "sample_audio_file = audio_files[500] # choose a random audio file\n",
        "sample_audio_path = audio_path + '/' + sample_audio_file\n",
        "X, sr = librosa.load(sample_audio_path, sr= None)"
      ],
      "execution_count": 23,
      "outputs": []
    },
    {
      "cell_type": "markdown",
      "metadata": {
        "id": "NwZsIO6Ug_4U"
      },
      "source": [
        "&#x270d; 1.3) Display the length of the audio array and sampling rate."
      ]
    },
    {
      "cell_type": "code",
      "metadata": {
        "id": "eMFDTZrCg_4V",
        "colab": {
          "base_uri": "https://localhost:8080/"
        },
        "outputId": "9b59668e-a6b6-4205-d2df-b80df68e0ad4"
      },
      "source": [
        "print('Length of audio: ', len(X))\n",
        "print('Sampling rate ', sr)"
      ],
      "execution_count": 24,
      "outputs": [
        {
          "output_type": "stream",
          "text": [
            "Length of audio:  5394\n",
            "Sampling rate  8000\n"
          ],
          "name": "stdout"
        }
      ]
    },
    {
      "cell_type": "markdown",
      "metadata": {
        "id": "IEAu18Hlg_4Z"
      },
      "source": [
        "&#x270d; 1.4) How long is the audio signal in seconds?\n",
        "<br>"
      ]
    },
    {
      "cell_type": "code",
      "metadata": {
        "id": "b3HN9oSvg_4Z",
        "colab": {
          "base_uri": "https://localhost:8080/"
        },
        "outputId": "1e8d24c4-1503-458e-e0d0-7e4f4d3ca41b"
      },
      "source": [
        "print('Audio length: {} seconds'.format(X.shape[0]/sr))"
      ],
      "execution_count": 25,
      "outputs": [
        {
          "output_type": "stream",
          "text": [
            "Audio length: 0.67425 seconds\n"
          ],
          "name": "stdout"
        }
      ]
    },
    {
      "cell_type": "markdown",
      "metadata": {
        "id": "I3GlzzIOg_4e"
      },
      "source": [
        "&#x270d; 1.5) Play your chosen audio file and play the record"
      ]
    },
    {
      "cell_type": "code",
      "metadata": {
        "id": "sW-qMBYqg_4e",
        "colab": {
          "base_uri": "https://localhost:8080/",
          "height": 75
        },
        "outputId": "4b58f40b-22d2-4cbd-ec42-e1e16097603e"
      },
      "source": [
        "from IPython.display import Audio\n",
        "\n",
        "Audio(sample_audio_path)"
      ],
      "execution_count": 26,
      "outputs": [
        {
          "output_type": "execute_result",
          "data": {
            "text/html": [
              "\n",
              "                <audio controls=\"controls\" >\n",
              "                    <source src=\"data:audio/x-wav;base64,UklGRkgqAABXQVZFZm10IBAAAAABAAEAQB8AAIA+AAACABAAZGF0YSQqAABXAZQBxgHdAd0BzgGpAYkBbAE3AQ0B0QCeAHIASAAnABsABgDt/7j/gP89//T+qv5f/g7+3f2o/YP9jf22/eD9B/45/iz+EP7T/XL98fxy/AD8mvty+6L7FPzo/AP+TP/JAFACyAMhBVMGLge4B/AH1AdyB9cGIgZRBWIEZANtAoMBlwC+//L+Q/6n/Rb9nfxB/A785vv4+yj8h/wg/dz9mP5g/wYAnwAEAUgBXQE6Ae0AiwAZALP/Wv8J/+3++/4T/0H/kv/i/ygAZgCZAMUA3wDkAO0A+ADyAPAA4QDCAJAAPwC8/y//eP6Z/bH85vs8+8X6lfqs+ir7+PsY/Wn+8P9uAeMCIAQvBQQGjga8BqUGPAaDBYgEeQNeAksBLAAf/0L+p/09/Qb9D/1A/ar9OP7g/pH/PgD6AJoB/wFaApYCvwLAAo4CPwLZAXcBBQGTAB0AtP8m/7D+Nf7X/XP9Mv3+/Nn8wPzA/Pn8Jf00/Sn9G/3e/Kf8TvzP+0j71fqF+kz6XfqW+kX7Zvyv/TX/7QDVAqMEbgbWB/wI3wllCnIKKAqACZQIjweSBoMFYwR2A5ACkgGxAM//+/4p/mb9qfwD/Kj7h/uR+8b7Hfx9/Pj8Z/3K/SD+Yf6f/sb+0P7Y/sv+sv6d/pD+k/6g/s/+Bv9X/7f/LwCHAP8ARwF4AXUBWAErAeAAVgC3/yv/ef68/fj8KPxw+776UPon+nD6HPsj/ID9Hf/nAJICNASZBcgGkwfvB9wHdwfjBj8GeAWhBPMDRwO2AjwCxgFgAcAAFwBm/5T+2v01/aL8Qfwi/Dj8jfwj/fj9z/65/40APwG4ARoCPwIrAvwBoQEIAVwAof8L/6z+Rv4M/t/9yf3U/dn9yf3Z/cT9vf2h/Wj9K/3E/Hf8+vua+0L75Pq8+qH60voh+777c/ya/eb+WQAHAqgDSwXlBlUIUAkIClUKWAoACmQJrAi/B+MGBQYhBT4EcwOaAp8BhwB2/1j+Qv0x/Db7hfoS+tr50/kV+oD6I/v2+878eP0S/nj+6v4e/0L/Uf80/wj/4v7I/s/+2/4A/yj/L/9E/zv/PP9N/z3/T/9l/2n/Zf9w/4v/d/9o/1H/Ef/H/lz+Bf7D/az9sP3x/XX+MP8xAHQBxQIVBE4FPwboBi4HLwcOB5IGAAZNBZYEyAMWA4EC8QF2AQIBcgDq/0f/q/4S/nj99vx4/BT82fu/+/T7T/wG/br9ev5W////fQDVAPQA3wChAFgA8/94/xz/8/6W/kb+Jf4h/jj+R/5v/n7+pP6j/p3+ef5V/hb+yP2J/Uz9Ef3u/Pr87PwI/f/8R/2d/R/+5f7W//MABgJBA2oEgQWEBkYH1gcUCBwI6AeWBxMHjQblBTEFnwT1A0oDfwLGAfgABwAy/0L+WP16/Kn7APtW+i36GPod+of6FPu6+5T8Z/36/YL+/f4d/y//Wf9I/zD/G/8g/w3/Kf9M/3j/ff+O/7H/2f/4/xgAMAAdAPz/0v+v/6z/ev9b/1j/XP9a/z7/J/8E/93+A/85/3z/3P+AADsBCQLgAqcDdATzBEAFYgV/BV4FFwW0BEAEuQM4A6sCMgKfASoBxABRAL3/Hf94/qH9+fxy/OH7ivtf+4H75/uD/EH9Bv7Y/of/HACNALoAwACmAGkAMQADAMX/sP9l/z7/JP8d//r+v/6l/nf+df5N/j/+I/4S/hX+Kv4w/jn+Sf5+/qn+5/48/2r/ev+R/7D/sP/d/w0AVgDjAJUBOQLTApgDawTrBE8FpgXGBbEFtAWSBTkFygRnBN4DMAOOAhQCbgG2AN//7v7Z/QP9T/yv+z37A/sA+xv7i/sd/J/8MP3c/XX+7P4p/3P/f/+J/4r/ff9N/zP/Ev8y/xr/F/8a/x3//f7z/hD/Ff9A/2X/iv+W/+D/EgAzAEcAcAB4AIMAdQA+ABAA0v+g/3j/Wv90/6v/4v9AANUAYAHlAXgCAgNHA5MDyQPjA9wD2AOnA3cDNAPrAoECIwK6AXQBAQFkALb/O//F/mL+1v11/Uz9Z/2M/dr9Pf6+/gv/dP+Z/87/1f/z/63/mP9l/03/5v7g/p/+l/5f/m/+Uv5g/kz+Sv4m/iX+L/4d/hb+JP6M/qn++/5c/7f/5P8YAD8AOwD+/8L/V/8u/z7/Zv+J/+P/YwD0ALUBfQJXA/MDhAQNBXoFvwW/BasFPwXiBIcEvQM+A4kCJAIsAaAA4/85/5D+5v2U/TD9CP3n/Nb8F/0+/ZP9rv0O/kj+bf6e/oP+iv58/o7+gP5q/jb+G/7W/dP9tf0H/vv9Wv6F/gP/Tf+Z//D/KABYAF0AVwB/AHAAigCUAJMAggBAACgA9//o/57/jP+Q/5z/2f/q/3AA4QCTASYCswIYA4ID8QM7BGQEYgQyBAQEdwMqA6kCKAKpASABpgDs/6j/Bf/T/pr+xv5w/qn+Wf62/sv+F/9j/2L/m/9V/37/Rv8n/w7/pf6K/ij+0v3T/W39jv0Y/RL9Av0L/Tv9Qv14/bn9rv0U/hr+uf67/mj/jf///xcAYgBYAGoAKgAvAO//6P/V/wUANgDjADwB4AFrAi0D0ANxBA4FfAWpBbgFyAVxBR8FkQTZA04DcwIIAi4B0AD5/97/Af+6/iz+xP24/TT9Mf3X/G39eP0r/kD+e/7q/uP+V//v/gT//f7n/tH+G/4//o79uP0c/TD9N/1b/Wv9j/0J/kn+2f4n/5b/u/8dAEkAZAB5AFEA8P/P/3//Iv/b/tX+f/6h/u7+e/83ANkA+QGuAp8D+wPNBCEFaAWlBZcFqQXTBBkF8wMhBD8DFQMxArMBzQDK/0//gP4o/rX9X/0x/SH9s/3E/Sr+WP7Y/gX/Zf+///D/OQACAJ//vP/2/iT/d/5Z/gX+yf0V/tv8uv0H/eX8Bv1N/Wr9j/1c/jn+xf76/kn/If6y/jb9Z/0F/FH8J/t4+0T8c/wC/hz/AQEDAiIEiwWOBlkI2ghpCVcJ6AkLCbgIRwgUB2wGhgXwBPUCvwLpAJYA3v6N/gn9hfwr/Gf7jfs++0D8K/xG/c79Q/53/2D/egDr/ywBmf9hAPT+kv7z/eL8Nf1M/Dv9aPsn/Sj8/Pxk/ev9h/4d/0kARP/A/z//6P2C/ZP8zfpy+QH5FfgG+MH4U/q++4z+RwDjAvEEvQeZCE0KwgoiCzMLqwpGCkAJ7AimB0MHAgb3BdIEKwTpAjQChAD6/sL9dPxj+0f6ufpL+Sj7TfuQ/Dr9HADS/ycBHAJGAiIBegInAYX+CwAH/a/8lvqo/Nf5A/tg/Hn6Dv0w/T7/QP2iABsAaf94/qb+//ts+r/5Ifb69Gz1R/WR89P3h/nD+wH/+wL+BKkHJQwcC10Nmg5CDocMQgzgCyoJaQnUB8YGugawBrUELwRoBMQCpP/O/mT9PvtW+mP4zvgJ+T/7f/lm/d/+PwAoAb8CJARmA80EOgEAA6b/xP/C+5v9rvrH+qr63vns+iX7Zf2e+zH/k/2xAEz9MPzZ+zf5gvYi8rTy1+9b8YXvyvJl9lj6Nv0sAUMI0AnNDREQaBKtErwSkhGIELMPIQ1sCr4JWAjpBrkF4QScBCgE1AI+AUD/ef7x+2P5+/cl9yr3sfYU+Hr53vyK/jwAcQIxBHwEGQVaA+gCwwHj/s/8JPzF+8f49vqj+c37xPvs/Mj90P5IA538z/0U/ZH5nPZ98NHxj+zU7wzqF+7185P1vPm+/UIG0AdcDNUO6RA0E24TlBFjEUsRkw82DPQKTQpqCOsHfgV1Bb4FpQQjArIB5AAz/oL9Ivtc+lH58fp3+kz8Kv4vAPkBNgOWBEYDdAUIARsBgf9k/DT6+Pfo+BX2F/gL9tn52fsj/ED9gAB6BIj6qf9k/PP4PPNr8S/vUev77yrnOvOg8/n3ufkxBN0HCgejEHIOjREzEgURWQ9EEREPFwp9DJ4LAgd5Bz4IRQXyBZwFsgHoAUMDd/5a/dz9ZvxS/Gv9tv59//0DcAMBBxwGYwgsBk8F+gQg/0L+evlQ+ebzt/PU8O3yZvEr9Wz1q/o1+9wAyAGP+fYDO/kG+ajy6vBX7aHrBu905MH4CvM7+QYAQweFCg0LwxSTDiEV+RJcDecQbQ+qC/kIOArqCPUFbQiDBOEFygYQBJkD2QB6AuP+BPxJ/CX6H/7/+kEABgGpBWgHpApHDCAMsA78CakGmALl/xv5dfbj8YbwAfDx7/XwqPOB9x34xv4C/3D0awV49OP2iu7t8MTp2edf7QfgpPra7Lz60f8aCv0LHw/DGc4RUBiiFNoN8REjC1kHcAY7B0kD+gGdBnQB2QTVBJoC1gSmAxEBB//OANj+CvuTAMIApgK9BWIIhQqYDzcQYQ2lEYoQ2QbhBOcBhfl68uvwdO6I6wvsBOyl8XH1yPbD/iXxlwRg9QLzOvTP6abvq+BQ8rDZTvrx7qj1NwbIBREUOQ3pH2oV9RlvGb8PhBOKCRcGsgON/34A5PnR/jH9qP00ACP/HwQYAFkDIQN3AM8D0/0XAnkEsQSRB8cLYQ+PD5ERJhMAEkIUdQoJCaUH4vyX9TL03fCz64XrcOoI7Mryf/JE+ubqAAA+8zLuFvWt5d3wa+Gj70Xb8fmd9MLxzQxqCQYWJhI7IZEccBczHWgM6hIvCqb/4wIJ+6z+cPP1+S34a/jS/+v3cgEsAGcEkwBN/38JfQHfBGQHGA38DOkQzhTcFIYYLRXdED0UkgvgAuIBXfze8pDuMe8v7bbsZOxK8Kz1fvwt5uf3X/3O5TjyX+Pm8fLfpOx93LTyBv2A7xAIZw6AGH4WLR1uIpEbdR0dEDQLlw+r96n5XvJG87jw1Osz9PXu9/vE+Hr5EwSMAI4MTwSFCWkOOgxhEYMNuxcCFSwYmxtuFaccXxOmEXELDAON/6Py6fNf66jrtOkh6HTwMezf+e3429+i/wPus+rY4ormRukX3lru/tmOAH//I/9/EOgcOCZ8HzgqFytXHw8lVw1lCb4FlPF08cHdu+vi3FLi8eSa4gn0i/Ev/Jf8Xwm7EXkKAxPEFeAVCxeoGEEZThyfHmscMxcaG1YUuAtgB0MATv2Y8JTtxOq37Avm0un272v2A/uT4Jzxee716GbjmtoK6sHfium43GH6Dwh1B3IULR3QL78pritCLXInAyfjFKMGTAYv8Nvtn9qs2ZXY7NeT29vX9+kM7sbz+/6bARQV+xQgFHQbQCGEHcQYjyChHNEdKR3FEQQZSRS/DZIAOANaASnw/O9j6unvTetz6Z7tJve88HfYGfG75JnlzNlO3n7lmeMM70TnlAZEEb4Z8yAhJ5w4oTLvM/0p5yQRJiAOTQE59L3t4eUv0XXTCM6E16nTItLY46rrpfTt+EAJXhVdG8MeHR2uIz8j/RoaG7EY6RnOGe4R0QzbDlMUGQMBAXUFpv3W9dDuu/R27tTvqO0S9jXzRdiQ5VPfx+HH1RDTtuL34t7uauR0Bv8UEByQKEksBDrMN6w56TFSI48kshZDBsjyqOOI6VLXnc4YyBnTndht0rDe9+nc89b5nAW6EfYXyhmxHPkfwiGJHvgZqRyfG8MZdRPFD3oQKw3rBc3/ZgFB/PLzRPAk9RTwjuzo61v7Quko1ZffbuDz4ubLt9Zn3x3sCfEq7jkOvCDaLRUtIDTAQq45VzuZMTUfSBoXChoDcOgl3A7Z49cX1AHETs8U2ojhPODy6M771QCLCnAQQBnvGX0ZIBpDGuMWnxa7Fg0Z8BVqEicTzBHVDwEFXghZAvD7X/Sp8ZnzC/Ji7DTpZPh07R3XsNZX2dLnytJ606DZe+uw+Jj0+QVLGAY4HjbLLzE7c0L+QIIwhyO+GxYNgQK57LvfIdZa0HbTRc3w0JLOzN487tvvg/g5AJwRfBjjF+ESNhYKH98c2hLNDvITVxeuFkcL6AgzEAoSYQMr+nP9pvxA9JzpCu038lvwlemU833yUuSL2jjYXOcQ43jc6daI6Cf9uP/tBGAQ3y9EOzo26jFuOe5B3TRnIngXHwyqAIft6ODU2IDOo9CRzW3Un9R03Ivmw/Hd+x0CBQw/FaEbDhxvGBoYHRuRGpITwA/BFlEWYRHCCnYLUg3gBav98fdP+hz16eZp6v/rdvF166DtgfVY7xfk0NZK3dTqKOto32jZwu7zBHcIeApUGR4zpjw9NLUxFzlROnspQhmBEPsFKvg+46/bj9i51N7OG8411iHgUOku7Q30PQFTDzUWixamGOwd9B24Fz4TthReFFMUCxGpD/YJhAlgCyIF//6C9yf3g/Q47fToN+m17I3vAuw+7rL4qPcb7GDZS99A86Dyuuek2yLt7P3dBZAPmhfWJ+gtKTFCNY8viy6QJvoe5w7J+8L5Nur84TfVftSp1zHV1tzO4cjt2fHJ9hEGDROPF3MVOxjnIcEg1hWBCI8M/RkiFPwLlAf4CswNIwfqAD35AfzY9nHug+rv53Trgu0c7OXq8u5l+vEEvPnu7CjmwvGU+HLwxu0X7THw6/WrBpIUJBffG1AnJi7UJ0ghpiP9JD0UNgDl9iH1u+sA4bbXM9ek3i7jgend6lzvlfiXB1MUYRLBD1UV+h3lHU0SAgrrDqQXyBJRBw4G2gueDDQGQP3T+8382/fY70bpd+i56Dnq/ukR6jDvKPcM/SkGOgqDBJz5RfN8+3j+Y/jp7Kbte/dy+Wr8IgYBFUkdmxkWFzEaLB/LG/MPJgjH/Y/4GfK66IrlpuOI6MbrUuzI7m71bQSFDVkMAQyxD1kXfRo0FacQeAwFEIcMrgSZBVEHWgwQB3z/kfsx/In+J/ZV7ljtye287a/o/+rK8aTzAPkf/SEJ+A+fEsgRtA3jBA32qPPs9kT3cerA3v/fGe2E+QX/zgaUDqIWthd6FhgXwxkwGX8LP/4n9zLz9fOv7yPtSekc7an3dvzrAPsBWAnhEHcTmxRQEcgV/hcWFVYOjgXPA9kFugWJ/hr36PhF+df4kvRc8KvvVPBN88X0xvGg8dH4cQLbBHQDGQptECoYqBhnFuIRTgcX+jzrreb+5MTiAtuX0vPVJOJ18x8CQw2FFswbLxx2Gi0dXx1lGFcM9f6J9rT0B/Xr7h3s6e5/86H6IQJACAMM4A/3ElwT3RSBFi8XVBMUDeYKYAaH/uPy7Omg7NPyBvKr6qfq3fPX+eL7Cf6vBJsHkwbEBAUE/wcCDk8RUQ4FCfMG4AlDC8oLsQbW/AHvIN+w3VDgCuFg3K/VzdoU5674jQTUCUYQWxV0GtMY7xT3FckTzAyKAwv+u/ms98n7ifra+X/+SwHBBb4IeA4uE1cRkA+HD70TyRG+BAX/U/6M/Wv1e+3P7SvuA+8p8Ab3E/z4/Y0CgQnQDpwNXQnxBbQGrweHBc0COQEQAvUBLwGlAe4DOQadBzQNaQeo+PfmQ91r5GThvduPznrNItXW3wrxwvrkBqwRpxtVIfogdyYiKQwlHBzMDZgG+f6g/LH7CfaF8pbxj/t6BKMCnQJ+CdsSNBMFC9kI2AqLCaQEqwHkAxACOPyL9H/spetX7sTxZfXP+PP9fgCnAtIGmwogDWYN1w0nDN8HzgfkCP8IlwQmAEEDwwafB4ACggB/+3TqLtspzDPNLM5iywnGpMF/0ajn9gBXE4chGzAHOWA82DnrNKUrLhzYDhsDNfef7QDngumL6YnsW/OT/9wLRw8eE0UXnB08H+wYWRDVC+AI6AMn/HX1N/AW62fo/eUR5dvhruf/8yoBTgmlC6gRuRg1HDMXOBF4DsMKiQP3/ar41PhB+Xn6vfoz+Vv8KgDBAdEAgfON4bTPzsYTzpvNrsxKyJvSc+h//+sWkSa8NDY9Mj69OGIwzSd8HqkPpgBU8xDtjOcl5KvmFO4i/ccKkxGfE4YZGiY8K4UjShcGDmwLegQJ+Grth+d758Tn3ueb6c3pVOu/8cD7twWWCuANpQ8XDrIKKQVVAKv76fX28DjudPIn+an/2QPyCA4RxRRHFIMR2Q8cDYoGZvCP01q77rGlunW7B745wEnWwfcSGNM1okWLURhQlUjMPaQuKSIfDKvwU93Q1vneQdwN3BToC/8QGDgi9CxqNX863zh5LPkfBQ55+knqA94025HUqNBn1angB/CW91L8xALjC/0UlhOLDPIDLv5D+kjwu+bq3xDh+OjA8/b+qwhyFG0gvCmQLm0rxSRAGp8QQgZD+TXqf9cRvc2mY5hror63yce92JvrRw7QK5FGG1gcWgNUiUQ4NGshBQsx9h3gW9a01RHbA+Yy8sUImR4ZMvk5RjzIPDczDSWVEAr/6uuO1NnFm79axijN69V76D77Yw7vGFMeOyMeID4YHAcy9M7iw9N7zwnN9dFT2SboDQAuFTsoQTObPL9CW0AlNWQeoAp8+dXrZ+F22DHU+9J10hzCd7XEtpnO6Ogt9Tn7RQeDJCs5REVERY1BlTemJMER5//y8Ivlrd664S7o6fTwBmsYFioRM+Y4rDYjLVweiwjb9OLhL9KxxKu8QMGPzc7flPLzB0sbQyh2Ljku4SlKIoERp/cr2rrGy7nLtUe++s6i5BL3PRCKKzhBhEf+P6I5di/lHjEGZ+8v4hrcwNyk383n/PMxANMLnhdZHbMKWun50AbM+9ApznnOatb76+4DfSATPw1ObkrbONYs0yN1D3zzHdxp2MngQulB9nUChBI4HZElpC2yK3cgjQmk9Cbn09xt1ATNic6K2ZTrEwAHEh4eoSS4KF0oZh4FDKj0z94LzwfIXsY4xbXLdN/b+kkTEyVINHBA30MnPMMtNRoeBMLuGOD62t3ZlN5w58v1oQX3EecfBSz4MtAqFA/O7DXJjrUSqRumHa3CvjHgawE5J+RHpGSbbf5gAkdqJ9cIs+wQ1IbDHbwOxIzW/uywA+4ZCDITQMM/bDGkHv8KRfZO4fPP3sXrw9/KZtkn7y8HGRt3K7s0rTYRLegcxwir8krhj9X80azQttKY3Z7uTgRPFAsg8iWwJXskgRwpEQQA6vA+64rrku+J8DL2VALvD0cbWh+LH6cd/RgpDfD0GNmjwGG0za25t2XJjOhFAnIdMTceSsRSu0VJNpoa2f5H5ErROsq2xUfP1+E1+4gVwSfZN947mTn7L7AcEwbz6SjaT9MP0o3Urdfu6Nn+ZBWNJWstXjOvLm0kVhGU+vfkOtN7yJzCgMSa0LbiNfdDC6EboCuRMRcuhiSgF1gPuAFY94XuIO8k9jn9qwWxCkcSVxd7Gl0YhgMl5oLFJ7yrvCrEasq50TXldvrRHL42/0fRQtgxSyHBC7H4aeOR2KnYB9/N8LACdBc8JIMt/DOHMfIo+hfwBC7wtd6T1y3XJt5w5bnxDAF6D+4coyUUKhghmRHPAmH6P/By4IfSU85u017cf+fE9+4F0g7eEbsWJxvTGLwQDwnQBbUCxvu39LvzIvoBBCwOfhZoGzIbQRryGVYXnw4u90rao7hWpsOl8LJtyafbQvcwCzwpmUFXVwZa/0AwIWH+W+rU2FPPo9Db1XfnGfpXF/4stTafN9swGiypGzEIuu+s29DRTs5018rhC/D6/4EP6iDuJ/8rkCZcHUYQLQAm8brfJtaF0wfXj9vZ5Dz0vgOqDJgQChSKFYsTRA19BL35gus44q3hQOtX9/0ANwpeEUkZ+hzoHVgc4RfbEV4J+wJy/yD7i/VX70PxD/bk9jzzKe4v7rnl/+CT31Tqc/NN+VgGOxUpJ6Asgi/HJ78WiwSp9u/ua+FF2TDcCuh59RkE+RnrKB8s/yVSIkgc9g2A/JDtKuRg3NXcKuYA8Pb1yfi+AigMyg9yDNoFoQGO+rf3ifj//TAA9/8IAccESgfcBtsGiwfZCksNZhKdElMOAgdIAR4Cbv2U8MvU/7jpsS+/Dd1g7/T9LwFHDZogBzngSDc+mSd5CKXxzuGY3L/hZOJ05QDtxgOXHjIw4jZrMeMnahliDXsDjfdu6BnYotMC3LXtK/8XC08R/RK3Fyod3B27Emr/Ee9L5l3kp+LM3zjeUuKu7bj9DwvzELMOZQsCCg0JHAU3/ir4M/K77ePsFPE++A3/fgerDzwVrRccF4UWcA52BQb+sftT+gT4WflT/RwDFQdrCyYNLg5NDb8MWgkfAvD7EPe+8/LumO099Df7xv7z9knqc9/a28LlKPC6+9f+6gP2Ct4UISODKPgjcA/c+hPwc+0X8Uzw7fBT8ML2DAWuFNQeVB6FGfMRRAvCBlIEk/+M9JPpheL044Pqr/htB4YRVhXZF8Yc7RveFXYLmALu9kvrdORB5P/mA+tV9AX+CARcBakLURXgFxMTZwj4/3DsrNTWxf3EgdB82J7rFP7aEpUewCtXPBpCPj6uKHcQxfGK3JTZkeFE6sPovOwx9n0FlRggKrsyAyasEvgCavur9tjzdPLx6XLgZeHd8SAFsg5AEnUS2BDICpQIvAgIBT34F+oK5e3keehZ6x/yGvUW9W/2Zv5cCg8SFRQSEZYMSAiIBkcGQgIZ/Kn26PZQ+r8ADAq0ElgXJBUJEZELLQfzAuH9H/Zm7Srqy+0X9OL3zfp0/An95Psq+6L7efqb+ML1WfWi9lP5Av63A/MJqg1UD8kPwA5SDBcKkQdTBOL+j/ww+4T6U/vi/s0DvwefCosM3gp3BwcG3gbgBYz+pfSx7sTtN/S88cDu+Oah6IXt5/hJCBMRuRTFD2QSgBJGEisO+wb8+gHofd5133HoofAS+Ob/AwQ9CLYP8xeDGnQV2Q3QBGX4cu+v7Yzzrfla/pME2QlAEeQYaSCvIrseRxioDoQCuvgl9CHzxeyk5C/e2tus3WLiru099gL94P5NBZYLJhIJFCMSgwrW/Rb0mPDo8lv1oveU+aj6PPzRAgsODBcDGc8UQA9pCM0D+wK/Aq/9tvVo8rzyJPUv+k8B2AWwBdAHuQtDDmUM0QknBen9EvYi8UjtlOuO73/6nAVXDSAR+BJxEYEQvA+2DAgDSPbu62/n9+eU7YT1pfp4+sz2F/Q48x30ZvZt+lP/ugL4A2gE9QfkDaMTXxRzEP8IsgEW/TT8Qv0F/Rr8cPyB/08DUwbCCXgMKA3sCZMFGQHe+1D4SPWz9U/3EPnw+fj6VAB1Bb8IgQpyC54KdwTU/4j83vtX+gD7qv0S/hD8iviU9oryqu2X6yzs/u9j82n89gSRDOAQeRavG90ZWxQCDYYHvv+A99HzbvRm91j5FP1yAV8FXQh7CrgLzArGB6wCDvyh9YfwYe2e7HPu4vJI+Bz9awFFBRQKcg2hDmoMPwlTBi4CQf4f+1D7SvoL+C73Lfnf/PP/GwQgCFsKHQpzCfcHSQXLAEH9n/qs+Ln2cPWf9pj4Ifuw/eAAgQTFBnwI3gjVCCkI0gaiBTYDq//g+hf3NfXC9E31KfZI+EH7Lf+xAooESQUOBZoEBwOtAGH+Vvzp+9/6nvq1+X36+/wUASQFFQfqB1IIdQm6CooKyQg8BowDqQFzAOT+Ov0A+7j6sPvd/SkA8ACtALj/CgCVAN7/MP44/Pz6KvrG+qH8AP+d/9v/6v6b/fH7Cvyn/Xb+fP9JAFYBNQHEAKUB9gLAAvYAWv/y/v7+if+wABUCzANKBLMEMwQTA4QBOQD6AMIBFgLOABz/KP4h/rH/GwGqAf8Am/+//tT+dP9h/4P+B/6K/dr7xPlD+jX9F//V/xwACgG1AAgBeQOHBeEE+wG0AD0AxgByAgMEewOwAKP/4v/v/xj/zv5x/vv7z/ka+lj8MP3V/ZL/3AAJAVUBCQN5A9IBQwDB/x7/sP0Y/Wz9Dv78/s0ASwIeAjABmgCxAeMCngOoAocBgQC8/+z+pP7o/on+7fxe/I39igC+Ag8EvAR+BJUDRgLXATkCXwH6/sv7+vrB+3D94f5iAJMAegAgAQID5QM/A88Brf8f/TD7QPtS/Pj8q/0f/vT+/f92AUcCEQEh/0P+ff6u/qX9TP1B/Yj+IQAAAvICDAPzAogDjgQxBUIEBwLn/1//4/+wAFMAuP9R/pr9mf3m/s//Ff70+xP7mPx//tv/8wALAXcAiQCaAiwF1gV1BHIBVP+P/jH/dP8K/5D+9P3k/Zn+9wA2Ay0EuwO0AlQCCwIcArgB4QBr/679ovzm+xL8IvoJ96bzgfIR9Aj3AP39AawGYgc5CAYHUwb0AxcCIgBb/yb+xv3k/Yz/NwIiBYIHTAceBtoCSAG6ABsCgALBAbf/B/3I+oD6ivsP/S/+sP8GAUkC6gLWAh4CdQA5/87+Wf84ANYA2AFtAVABFwEPAaQAif+L/tL8HPx1/OX93/7p/i//P/87/9H+vP7U/rf+J/52/Xf9wf3N/Vj9Jv3N/fz+x/+1/xMAZQAuAWgC1AOwBGUExgM7A0oDtQN5BLEEjwQdBIcDogKcARwB8gAXAfMAigDd/8/+Sv7F/hcAswAMARkBxAAnAIH/n/93/7z+6fsS+Cr0TvF28JjxxPRF+In76/64AoMGBQmwCrEKDgkfBvoC/ABaAMsASgFEARMBaQBXAEIBQgO+BA0FcQRjAyoCGwEtAI//gf7L/Wj9BP7Q/uP+6v2J/Bn8O/wP/b79Wv6g/sX+m//YAHECNAMlA4gCtQFEAQgBbAEmAnkCzAKkAuQByACOANAAEwHOAEcA8//y/2cAvgCKAG7/ov1w/JD7yfoa+Yr3fvbc9qX44/qH/a3/FAG2AWgCBQNtA1oD/AJZAgACJAEwAOT/ZwDmACUBPAFcAUEBEwGzAX8CrwIwAuABHQJxAoACZQIwAgICIgLvAnUDPgNAAlQBaACP/07/6/9vAMAAogCcAC4Azv+w/33/pv6d/cz8Cfzc+zX8A/3x/Qr+Sf0k/Dr7avqa+Qj5mfho+LH4VfkK+nH78vyW/r//kgAsARQCdQMgBZEGXQcfB7wGgQY4BlIFqwRPBF4EfASmBLYEzATkBBEF1QRhBEsDcAJ+AawA+v9f/9f+a/5I/ir+vP2H/X/9d/3e/YH+ov4e/vD83fv++qv6f/oB+pL5eflL+uT7V/7HABYC7QG6ACz/p/2t/Nj7Y/sE+0v7SvxA/oAAUALKA4YEZwQJBKoD9wMfBB0ElwPfAn8CogJFA3sD1gL/ASsBBgF1ARQCiQJMAnoBVACk/07/Vv/d/8sAZwFPAcQABgCw/97/cAAGAfQARgCJ/1P/nv92APkAcgA+/+/9Tf1G/Vv9Wf3T/Fv8gPyH/cr+yv9TAEwA2v8c/4j+FP4h/mf+1/52/nL9EPxJ+yb7M/sw+y37Rvu3+9T8qP72AMcCFgTRBBAFvwT5A2YDMwNUAwwEwwRhBfgFdwaOBkAGhQXBBNsD+wJDArIBJQHLAOsASQE5AfgAowA7AMj/hf9M/73+Hf5I/cD8bvwW/AP89/v7+wL8Qfx9/Iv8u/zz/P/84/x6/Er8TPxt/Mz8kP0y/lv+sP4e/1H/d/+U/97/CQAaADcAcQD2AIAB4wEQAisCYgLkAj8DtAMfBEsEEAQVBGoE2gTuBOEEgATpA6UDigN9A0ADfAKIAagAEQCh/zb/6/6N/jv+z/1Y/Qj9xvzb/BD9OP1g/Ur9eP2z/Q/+Mf4I/sz9j/1p/Vb9dP3X/Wb+2v4w/4X/3/8PAOD/lP9G/+P+ov5x/lL+dv61/vb+Vv/h/xcAEADd/xcAnAAyAaQB/wH6Ad0BqgGsAfEBQwKTAsUCrwKkArYCAgMnA/4CjQL9AcEBmQGjAcwBvQGWAVUB4gBdACUA+/+Z/4D/W/9I/xn//f7S/qb+g/4m/rj9gP1k/VT9YP2a/QT+Ef7I/Zr9cf1Q/Sr9C/0f/Tn9ev39/dT+gP/F/8P/mf90/4H/3f9WAOAASwGpAcUBFQJdAm4CWAIpAvoByQGyAdsBKwJlAnkChAKIAm8ChAKZAqICjwJXAgMCtwFiAcAAKQDC/1D/AP/J/q7+mf6y/uX+HP8e/8z+Vv7g/bX9gv1h/Vr9Rf0t/V79lf2f/aL9GP55/qP+2f7s/gv/Rv+X/+r/HwBvAI4ApgCqANYAJgExAT4BJwE9AVIBUwFhAUIBPAFJASoBHQH6ANkArACZAJgAqQDSAAQBMgE8AUQBBQHvAMcArQCVAIoAeQBJACEACgAuAGkAZwBYACQA2f+X/3T/XP84/yP/FP8N//z+/P76/vX++/7t/tL+ov6n/rP+wf4H/zj/b/+M/3j/ef+M/4f/lf+V/47/Yf9z/5r/q//s/yAAXQBjAFIAWABqAIkApAC0AN4AvACWAJYAsQDWANwACgE1AS4BMgFbAY0BsgHAAcsBtgGdAYsBRAEDAbMAYADq/6T/a/9K/0X/IP8W//f+vP6O/mH+Rv5L/kD+Lf4U/vv97v3T/QH+Y/6j/sr+7/4V/0H/fv++/+z/GQA3AFgAlADPAO4AEgFGAUYBcgGQAZgBmAGjAbgBtQGkAXkBWQE=\" type=\"audio/x-wav\" />\n",
              "                    Your browser does not support the audio element.\n",
              "                </audio>\n",
              "              "
            ],
            "text/plain": [
              "<IPython.lib.display.Audio object>"
            ]
          },
          "metadata": {
            "tags": []
          },
          "execution_count": 26
        }
      ]
    },
    {
      "cell_type": "markdown",
      "metadata": {
        "id": "o52XE19dg_4h"
      },
      "source": [
        "&#x270d; 1.6) Plot the audio signal in time domain."
      ]
    },
    {
      "cell_type": "code",
      "metadata": {
        "id": "lghmYwIOg_4i",
        "colab": {
          "base_uri": "https://localhost:8080/",
          "height": 296
        },
        "outputId": "b1db8ade-38c7-4040-8d34-d630864628b9"
      },
      "source": [
        "import librosa.display\n",
        "import matplotlib.pyplot as plt\n",
        "%matplotlib inline\n",
        "librosa.display.waveplot(X, sr= sr)"
      ],
      "execution_count": 27,
      "outputs": [
        {
          "output_type": "execute_result",
          "data": {
            "text/plain": [
              "<matplotlib.collections.PolyCollection at 0x7f4daf1a80b8>"
            ]
          },
          "metadata": {
            "tags": []
          },
          "execution_count": 27
        },
        {
          "output_type": "display_data",
          "data": {
            "image/png": "[encoded data removed]",
            "text/plain": [
              "<Figure size 432x288 with 1 Axes>"
            ]
          },
          "metadata": {
            "tags": [],
            "needs_background": "light"
          }
        }
      ]
    },
    {
      "cell_type": "markdown",
      "metadata": {
        "id": "WA3b7i3sg_4k"
      },
      "source": [
        "&#x270d; 1.7) Display the audio signal's spectrogram on a logarithmic scale using *librosa.stft*. Note that, the Short-Time Fourier Transform (STFT) represents a signal in the time-frequency domain by computing discrete Fourier transforms (DFT) over short overlapping windows.\n",
        "\n",
        "\n",
        "Decibel:\n",
        "https://en.wikipedia.org/wiki/Decibel#Acoustics\n",
        "\n"
      ]
    },
    {
      "cell_type": "code",
      "metadata": {
        "id": "BrqTWI1tg_4l",
        "colab": {
          "base_uri": "https://localhost:8080/",
          "height": 441
        },
        "outputId": "51465f06-ed93-435f-f9fc-a70d24a2562f"
      },
      "source": [
        "import numpy as np\n",
        "n_fft =  1024    ## 1024\n",
        "hop_length = 512 ## 512\n",
        "stft = librosa.stft(X, n_fft= n_fft, hop_length= hop_length)\n",
        "stft_magnitude, stft_phase = librosa.magphase(stft)\n",
        "stft_magnitude_dB = librosa.amplitude_to_db(stft_magnitude, ref= np.max)\n",
        "plt.figure(figsize=(12, 6))\n",
        "librosa.display.specshow(stft_magnitude_dB, \n",
        "                         x_axis='time', y_axis='log', \n",
        "                         sr= sr, hop_length= hop_length)\n",
        "plt.title('Power spectrogram')\n",
        "plt.colorbar(format='%+2.0f dB')\n",
        "plt.tight_layout()\n",
        "plt.show()"
      ],
      "execution_count": 28,
      "outputs": [
        {
          "output_type": "display_data",
          "data": {
            "image/png": "[encoded data removed]",
            "text/plain": [
              "<Figure size 864x432 with 2 Axes>"
            ]
          },
          "metadata": {
            "tags": [],
            "needs_background": "light"
          }
        }
      ]
    },
    {
      "cell_type": "markdown",
      "metadata": {
        "id": "tZynBha7g_4o"
      },
      "source": [
        "&#x270d; 1.8) What is the hop length in seconds?"
      ]
    },
    {
      "cell_type": "code",
      "metadata": {
        "id": "--ZRXnMxg_4o",
        "colab": {
          "base_uri": "https://localhost:8080/"
        },
        "outputId": "1021f049-d7be-44b4-f25f-5790e70c66a9"
      },
      "source": [
        "print('Hop length: {} seconds'.format(hop_length/sr))"
      ],
      "execution_count": 29,
      "outputs": [
        {
          "output_type": "stream",
          "text": [
            "Hop length: 0.064 seconds\n"
          ],
          "name": "stdout"
        }
      ]
    },
    {
      "cell_type": "markdown",
      "metadata": {
        "id": "ULhte114g_4t"
      },
      "source": [
        "## 2) Data Preprocessing <a id='data_preproc'></a>"
      ]
    },
    {
      "cell_type": "markdown",
      "metadata": {
        "id": "jigVL8P0g_4u"
      },
      "source": [
        "&#x270d; 2.1) Find all audio files duration in seconds and sampling rate, and plot their distributions.\n",
        "\n",
        "**Note** it can take 5-10 minutes for all audios"
      ]
    },
    {
      "cell_type": "code",
      "metadata": {
        "id": "o-y5FTVeg_4u",
        "colab": {
          "base_uri": "https://localhost:8080/",
          "height": 877
        },
        "outputId": "ec1944c1-4bc3-4f6a-c43a-5cae324d8043"
      },
      "source": [
        "audio_path = os.path.join(os.getcwd(), '/content/free-spoken-digit-dataset/recordings')\n",
        "audio_files = os.listdir(audio_path) \n",
        "all_audios_sr = []\n",
        "all_audios_duration = []\n",
        "for audio_file in audio_files:\n",
        "    #print(audio_file)\n",
        "    audio, sr = librosa.load(audio_path +'/'+ audio_file)\n",
        "    all_audios_sr.append(sr)\n",
        "    all_audios_duration.append(len(audio)/sr)\n",
        "all_audios_duration = np.asarray(all_audios_duration)\n",
        "all_audios_sr = np.asarray(all_audios_sr)\n",
        "plt.figure(figsize = (10, 5))\n",
        "plt.subplot(1,2,1)\n",
        "plt.hist(all_audios_sr);\n",
        "plt.subplot(1,2,2)\n",
        "plt.hist(all_audios_duration, bins = 100)"
      ],
      "execution_count": 30,
      "outputs": [
        {
          "output_type": "execute_result",
          "data": {
            "text/plain": [
              "(array([  9.,  15.,  28.,  44.,  69., 107., 123., 139., 157., 204., 195.,\n",
              "        206., 219., 204., 177., 179., 153., 141., 126.,  83.,  82.,  64.,\n",
              "         67.,  49.,  30.,  23.,  15.,   9.,   7.,   9.,   8.,   8.,   2.,\n",
              "          8.,   6.,   3.,   4.,   1.,   4.,   2.,   4.,   3.,   0.,   0.,\n",
              "          0.,   2.,   2.,   2.,   0.,   2.,   1.,   0.,   1.,   0.,   2.,\n",
              "          0.,   0.,   0.,   0.,   0.,   0.,   0.,   0.,   0.,   0.,   0.,\n",
              "          0.,   0.,   0.,   0.,   0.,   0.,   0.,   0.,   0.,   0.,   0.,\n",
              "          0.,   0.,   0.,   0.,   0.,   0.,   0.,   0.,   0.,   0.,   0.,\n",
              "          0.,   0.,   0.,   0.,   0.,   0.,   0.,   1.,   0.,   0.,   0.,\n",
              "          1.]),\n",
              " array([0.14353741, 0.16492971, 0.186322  , 0.20771429, 0.22910658,\n",
              "        0.25049887, 0.27189116, 0.29328345, 0.31467574, 0.33606803,\n",
              "        0.35746032, 0.37885261, 0.4002449 , 0.42163719, 0.44302948,\n",
              "        0.46442177, 0.48581406, 0.50720635, 0.52859864, 0.54999093,\n",
              "        0.57138322, 0.59277551, 0.6141678 , 0.63556009, 0.65695238,\n",
              "        0.67834467, 0.69973696, 0.72112925, 0.74252154, 0.76391383,\n",
              "        0.78530612, 0.80669841, 0.8280907 , 0.84948299, 0.87087528,\n",
              "        0.89226757, 0.91365986, 0.93505215, 0.95644444, 0.97783673,\n",
              "        0.99922902, 1.02062132, 1.04201361, 1.0634059 , 1.08479819,\n",
              "        1.10619048, 1.12758277, 1.14897506, 1.17036735, 1.19175964,\n",
              "        1.21315193, 1.23454422, 1.25593651, 1.2773288 , 1.29872109,\n",
              "        1.32011338, 1.34150567, 1.36289796, 1.38429025, 1.40568254,\n",
              "        1.42707483, 1.44846712, 1.46985941, 1.4912517 , 1.51264399,\n",
              "        1.53403628, 1.55542857, 1.57682086, 1.59821315, 1.61960544,\n",
              "        1.64099773, 1.66239002, 1.68378231, 1.7051746 , 1.72656689,\n",
              "        1.74795918, 1.76935147, 1.79074376, 1.81213605, 1.83352834,\n",
              "        1.85492063, 1.87631293, 1.89770522, 1.91909751, 1.9404898 ,\n",
              "        1.96188209, 1.98327438, 2.00466667, 2.02605896, 2.04745125,\n",
              "        2.06884354, 2.09023583, 2.11162812, 2.13302041, 2.1544127 ,\n",
              "        2.17580499, 2.19719728, 2.21858957, 2.23998186, 2.26137415,\n",
              "        2.28276644]),\n",
              " <a list of 100 Patch objects>)"
            ]
          },
          "metadata": {
            "tags": []
          },
          "execution_count": 30
        },
        {
          "output_type": "display_data",
          "data": {
            "image/png": "[encoded data removed]",
            "text/plain": [
              "<Figure size 720x360 with 2 Axes>"
            ]
          },
          "metadata": {
            "tags": [],
            "needs_background": "light"
          }
        }
      ]
    },
    {
      "cell_type": "markdown",
      "metadata": {
        "id": "HSfK7frog_4w"
      },
      "source": [
        "&#x270d; 2.2) Clip or pad audio signals to have one second duration for all audios. Extract audio labels as well. Keep audio signals from speaker 'jackson' for test set, and the rest speakers for training.\n",
        "\n",
        "Dataformat: Number_NAME_recordnumber.wav"
      ]
    },
    {
      "cell_type": "code",
      "metadata": {
        "id": "0H6Dd__mj3Mr"
      },
      "source": [
        ""
      ],
      "execution_count": 30,
      "outputs": []
    },
    {
      "cell_type": "code",
      "metadata": {
        "id": "bBim6P7Ng_4x"
      },
      "source": [
        "audio_duration_sec = 1\n",
        "pad = lambda a, n: a[:n] if a.shape[0] > n else np.hstack((a, np.zeros(n - a.shape[0])))\n",
        "X_train, y_train = [], []\n",
        "X_test, y_test = [], []\n",
        "for audio_file in audio_files:\n",
        "    #print(audio_file)\n",
        "    audio, sr = librosa.load(audio_path +'/'+ audio_file, sr = None)\n",
        "    X = pad(audio, int(audio_duration_sec*sr))\n",
        "    #X = pad_sequences([audio], maxlen=sr*audio_duration_sec, padding='post', truncating='post')\n",
        "    #X = np.pad([audio], maxlen=sr*audio_duration_sec, padding='post', truncating='post')\n",
        "    label = audio_file.split('_')[0]\n",
        "    speaker = audio_file.split('_')[1]\n",
        "    if (speaker=='jackson'):\n",
        "        X_test.append(X)\n",
        "        y_test.append(label)\n",
        "    else:\n",
        "        X_train.append(X)\n",
        "        y_train.append(label)\n",
        "X_train = np.asarray(X_train)\n",
        "y_train = np.asarray(y_train)\n",
        "X_test = np.asarray(X_test)\n",
        "y_test = np.asarray(y_test)"
      ],
      "execution_count": 31,
      "outputs": []
    },
    {
      "cell_type": "code",
      "metadata": {
        "id": "ZKPr8fFOg_4z",
        "colab": {
          "base_uri": "https://localhost:8080/"
        },
        "outputId": "d55fe002-d597-4206-8ab0-05624e3ebe73"
      },
      "source": [
        "print('X_train shape:', X_train.shape)\n",
        "print('X_test shape:', X_test.shape)"
      ],
      "execution_count": 32,
      "outputs": [
        {
          "output_type": "stream",
          "text": [
            "X_train shape: (2500, 8000)\n",
            "X_test shape: (500, 8000)\n"
          ],
          "name": "stdout"
        }
      ]
    },
    {
      "cell_type": "markdown",
      "metadata": {
        "id": "q04OhEYGg_42"
      },
      "source": [
        "&#x270d; 2.3) Convert the labels to a one-hot vector. "
      ]
    },
    {
      "cell_type": "code",
      "metadata": {
        "id": "a7XHQu1zg_43"
      },
      "source": [
        "from keras.utils.np_utils import to_categorical\n",
        "import tensorflow as tf\n",
        "\n",
        "y_train = tf.keras.utils.to_categorical(y_train)\n",
        "y_test = tf.keras.utils.to_categorical(y_test)"
      ],
      "execution_count": 33,
      "outputs": []
    },
    {
      "cell_type": "code",
      "metadata": {
        "id": "fQ2A2APWg_45",
        "colab": {
          "base_uri": "https://localhost:8080/"
        },
        "outputId": "d3038230-f763-4372-fe5e-73f704391b64"
      },
      "source": [
        "print('y_train shape:', y_train.shape)\n",
        "print('y_test shape:', y_test.shape)"
      ],
      "execution_count": 34,
      "outputs": [
        {
          "output_type": "stream",
          "text": [
            "y_train shape: (2500, 10)\n",
            "y_test shape: (500, 10)\n"
          ],
          "name": "stdout"
        }
      ]
    },
    {
      "cell_type": "markdown",
      "metadata": {
        "id": "o3QZDJt9g_48"
      },
      "source": [
        "## 3) Time Domain Model <a id='time_model'></a>"
      ]
    },
    {
      "cell_type": "markdown",
      "metadata": {
        "id": "eaMyepeXg_4-"
      },
      "source": [
        "&#x270d; 3.1) Build a model based on time domain input signals and evaluate the classification performance of it. "
      ]
    },
    {
      "cell_type": "code",
      "metadata": {
        "id": "GU8TpsMJNWOP"
      },
      "source": [
        "import keras\n",
        "from keras.models import Sequential\n",
        "from keras.layers import Conv2D, MaxPooling2D, Dense, Flatten, Dropout\n",
        "from keras.optimizers import Adam"
      ],
      "execution_count": 35,
      "outputs": []
    },
    {
      "cell_type": "code",
      "metadata": {
        "id": "QFTRVCNMg_4_",
        "colab": {
          "base_uri": "https://localhost:8080/"
        },
        "outputId": "57bdfb21-876a-49fa-e396-deb403839bdb"
      },
      "source": [
        "model = Sequential()\n",
        "model.add(Dense(256, activation='relu', input_dim= X_train.shape[1]))\n",
        "model.add(Dropout(0.25))\n",
        "model.add(Dense(128, activation='relu'))\n",
        "model.add(Dropout(0.25))\n",
        "model.add(Dense(64, activation='relu'))\n",
        "model.add(Dropout(0.25))\n",
        "model.add(Dense(10, activation='softmax'))\n",
        "model.summary()"
      ],
      "execution_count": 36,
      "outputs": [
        {
          "output_type": "stream",
          "text": [
            "Model: \"sequential_1\"\n",
            "_________________________________________________________________\n",
            "Layer (type)                 Output Shape              Param #   \n",
            "=================================================================\n",
            "dense_4 (Dense)              (None, 256)               2048256   \n",
            "_________________________________________________________________\n",
            "dropout_3 (Dropout)          (None, 256)               0         \n",
            "_________________________________________________________________\n",
            "dense_5 (Dense)              (None, 128)               32896     \n",
            "_________________________________________________________________\n",
            "dropout_4 (Dropout)          (None, 128)               0         \n",
            "_________________________________________________________________\n",
            "dense_6 (Dense)              (None, 64)                8256      \n",
            "_________________________________________________________________\n",
            "dropout_5 (Dropout)          (None, 64)                0         \n",
            "_________________________________________________________________\n",
            "dense_7 (Dense)              (None, 10)                650       \n",
            "=================================================================\n",
            "Total params: 2,090,058\n",
            "Trainable params: 2,090,058\n",
            "Non-trainable params: 0\n",
            "_________________________________________________________________\n"
          ],
          "name": "stdout"
        }
      ]
    },
    {
      "cell_type": "markdown",
      "metadata": {
        "id": "zMcuwMcd3hQy"
      },
      "source": [
        "&#x270d;  3.2) Compile your model"
      ]
    },
    {
      "cell_type": "code",
      "metadata": {
        "id": "HCZo0Z-gg_5B",
        "colab": {
          "base_uri": "https://localhost:8080/"
        },
        "outputId": "fa8be310-1005-4512-f85b-be60b50d3be8"
      },
      "source": [
        "# Compile the model\n",
        "opt = keras.optimizers.Adam(learning_rate=0.0001)\n",
        "model.compile(loss= 'categorical_crossentropy', optimizer = opt, metrics= ['accuracy'])\n",
        "\n",
        "# Fit the model\n",
        "epochs = 100\n",
        "batch_size = 32\n",
        "history = model.fit(X_train, y_train,epochs= epochs, batch_size= batch_size,validation_split = 0.2,shuffle = True,verbose = 1)"
      ],
      "execution_count": 37,
      "outputs": [
        {
          "output_type": "stream",
          "text": [
            "Epoch 1/100\n",
            "63/63 [==============================] - 2s 23ms/step - loss: 2.3021 - accuracy: 0.1109 - val_loss: 2.3019 - val_accuracy: 0.1060\n",
            "Epoch 2/100\n",
            "63/63 [==============================] - 1s 16ms/step - loss: 2.2925 - accuracy: 0.1571 - val_loss: 2.3001 - val_accuracy: 0.1080\n",
            "Epoch 3/100\n",
            "63/63 [==============================] - 1s 16ms/step - loss: 2.2769 - accuracy: 0.1954 - val_loss: 2.2978 - val_accuracy: 0.1120\n",
            "Epoch 4/100\n",
            "63/63 [==============================] - 1s 16ms/step - loss: 2.2644 - accuracy: 0.2396 - val_loss: 2.2940 - val_accuracy: 0.1160\n",
            "Epoch 5/100\n",
            "63/63 [==============================] - 1s 17ms/step - loss: 2.2413 - accuracy: 0.2686 - val_loss: 2.2894 - val_accuracy: 0.1420\n",
            "Epoch 6/100\n",
            "63/63 [==============================] - 1s 16ms/step - loss: 2.2138 - accuracy: 0.2779 - val_loss: 2.2837 - val_accuracy: 0.1560\n",
            "Epoch 7/100\n",
            "63/63 [==============================] - 1s 16ms/step - loss: 2.1667 - accuracy: 0.3117 - val_loss: 2.2759 - val_accuracy: 0.1560\n",
            "Epoch 8/100\n",
            "63/63 [==============================] - 1s 17ms/step - loss: 2.1063 - accuracy: 0.3478 - val_loss: 2.2675 - val_accuracy: 0.1360\n",
            "Epoch 9/100\n",
            "63/63 [==============================] - 1s 16ms/step - loss: 2.0674 - accuracy: 0.3534 - val_loss: 2.2609 - val_accuracy: 0.1400\n",
            "Epoch 10/100\n",
            "63/63 [==============================] - 1s 16ms/step - loss: 1.9827 - accuracy: 0.3633 - val_loss: 2.2523 - val_accuracy: 0.1460\n",
            "Epoch 11/100\n",
            "63/63 [==============================] - 1s 17ms/step - loss: 1.9014 - accuracy: 0.4062 - val_loss: 2.2486 - val_accuracy: 0.1560\n",
            "Epoch 12/100\n",
            "63/63 [==============================] - 1s 16ms/step - loss: 1.8084 - accuracy: 0.4978 - val_loss: 2.2485 - val_accuracy: 0.1520\n",
            "Epoch 13/100\n",
            "63/63 [==============================] - 1s 16ms/step - loss: 1.7092 - accuracy: 0.4948 - val_loss: 2.2536 - val_accuracy: 0.1700\n",
            "Epoch 14/100\n",
            "63/63 [==============================] - 1s 17ms/step - loss: 1.6376 - accuracy: 0.5325 - val_loss: 2.2633 - val_accuracy: 0.1740\n",
            "Epoch 15/100\n",
            "63/63 [==============================] - 1s 17ms/step - loss: 1.5066 - accuracy: 0.5746 - val_loss: 2.2748 - val_accuracy: 0.1780\n",
            "Epoch 16/100\n",
            "63/63 [==============================] - 1s 17ms/step - loss: 1.4415 - accuracy: 0.6033 - val_loss: 2.3003 - val_accuracy: 0.1760\n",
            "Epoch 17/100\n",
            "63/63 [==============================] - 1s 17ms/step - loss: 1.3500 - accuracy: 0.6207 - val_loss: 2.3185 - val_accuracy: 0.1720\n",
            "Epoch 18/100\n",
            "63/63 [==============================] - 1s 16ms/step - loss: 1.2718 - accuracy: 0.6475 - val_loss: 2.3437 - val_accuracy: 0.1700\n",
            "Epoch 19/100\n",
            "63/63 [==============================] - 1s 17ms/step - loss: 1.2153 - accuracy: 0.6416 - val_loss: 2.3664 - val_accuracy: 0.1720\n",
            "Epoch 20/100\n",
            "63/63 [==============================] - 1s 17ms/step - loss: 1.2189 - accuracy: 0.6432 - val_loss: 2.3940 - val_accuracy: 0.1680\n",
            "Epoch 21/100\n",
            "63/63 [==============================] - 1s 17ms/step - loss: 1.1392 - accuracy: 0.6721 - val_loss: 2.4256 - val_accuracy: 0.1680\n",
            "Epoch 22/100\n",
            "63/63 [==============================] - 1s 17ms/step - loss: 1.0859 - accuracy: 0.7077 - val_loss: 2.4564 - val_accuracy: 0.1760\n",
            "Epoch 23/100\n",
            "63/63 [==============================] - 1s 16ms/step - loss: 1.0331 - accuracy: 0.7170 - val_loss: 2.4950 - val_accuracy: 0.1820\n",
            "Epoch 24/100\n",
            "63/63 [==============================] - 1s 17ms/step - loss: 1.0198 - accuracy: 0.7064 - val_loss: 2.5314 - val_accuracy: 0.1880\n",
            "Epoch 25/100\n",
            "63/63 [==============================] - 1s 17ms/step - loss: 0.9516 - accuracy: 0.7252 - val_loss: 2.5662 - val_accuracy: 0.1880\n",
            "Epoch 26/100\n",
            "63/63 [==============================] - 1s 17ms/step - loss: 0.9216 - accuracy: 0.7399 - val_loss: 2.6022 - val_accuracy: 0.1900\n",
            "Epoch 27/100\n",
            "63/63 [==============================] - 1s 17ms/step - loss: 0.8877 - accuracy: 0.7620 - val_loss: 2.6340 - val_accuracy: 0.1940\n",
            "Epoch 28/100\n",
            "63/63 [==============================] - 1s 17ms/step - loss: 0.8177 - accuracy: 0.7730 - val_loss: 2.6702 - val_accuracy: 0.1940\n",
            "Epoch 29/100\n",
            "63/63 [==============================] - 1s 17ms/step - loss: 0.8316 - accuracy: 0.7735 - val_loss: 2.7092 - val_accuracy: 0.1940\n",
            "Epoch 30/100\n",
            "63/63 [==============================] - 1s 17ms/step - loss: 0.7964 - accuracy: 0.7827 - val_loss: 2.7565 - val_accuracy: 0.1920\n",
            "Epoch 31/100\n",
            "63/63 [==============================] - 1s 17ms/step - loss: 0.7687 - accuracy: 0.7969 - val_loss: 2.8047 - val_accuracy: 0.1920\n",
            "Epoch 32/100\n",
            "63/63 [==============================] - 1s 17ms/step - loss: 0.7436 - accuracy: 0.8263 - val_loss: 2.8546 - val_accuracy: 0.2020\n",
            "Epoch 33/100\n",
            "63/63 [==============================] - 1s 16ms/step - loss: 0.7486 - accuracy: 0.8128 - val_loss: 2.8837 - val_accuracy: 0.1980\n",
            "Epoch 34/100\n",
            "63/63 [==============================] - 1s 17ms/step - loss: 0.7054 - accuracy: 0.8300 - val_loss: 2.9358 - val_accuracy: 0.2020\n",
            "Epoch 35/100\n",
            "63/63 [==============================] - 1s 17ms/step - loss: 0.6964 - accuracy: 0.8327 - val_loss: 2.9813 - val_accuracy: 0.2000\n",
            "Epoch 36/100\n",
            "63/63 [==============================] - 1s 17ms/step - loss: 0.6523 - accuracy: 0.8380 - val_loss: 3.0439 - val_accuracy: 0.1980\n",
            "Epoch 37/100\n",
            "63/63 [==============================] - 1s 17ms/step - loss: 0.6459 - accuracy: 0.8326 - val_loss: 3.0978 - val_accuracy: 0.2060\n",
            "Epoch 38/100\n",
            "63/63 [==============================] - 1s 17ms/step - loss: 0.6533 - accuracy: 0.8279 - val_loss: 3.1367 - val_accuracy: 0.2120\n",
            "Epoch 39/100\n",
            "63/63 [==============================] - 1s 17ms/step - loss: 0.5872 - accuracy: 0.8557 - val_loss: 3.1897 - val_accuracy: 0.2040\n",
            "Epoch 40/100\n",
            "63/63 [==============================] - 1s 17ms/step - loss: 0.5589 - accuracy: 0.8750 - val_loss: 3.2512 - val_accuracy: 0.2020\n",
            "Epoch 41/100\n",
            "63/63 [==============================] - 1s 17ms/step - loss: 0.5662 - accuracy: 0.8616 - val_loss: 3.3049 - val_accuracy: 0.2080\n",
            "Epoch 42/100\n",
            "63/63 [==============================] - 1s 17ms/step - loss: 0.5690 - accuracy: 0.8683 - val_loss: 3.3710 - val_accuracy: 0.2000\n",
            "Epoch 43/100\n",
            "63/63 [==============================] - 1s 17ms/step - loss: 0.5144 - accuracy: 0.8755 - val_loss: 3.4373 - val_accuracy: 0.2040\n",
            "Epoch 44/100\n",
            "63/63 [==============================] - 1s 17ms/step - loss: 0.5074 - accuracy: 0.8770 - val_loss: 3.4889 - val_accuracy: 0.2100\n",
            "Epoch 45/100\n",
            "63/63 [==============================] - 1s 17ms/step - loss: 0.4929 - accuracy: 0.8908 - val_loss: 3.5543 - val_accuracy: 0.2120\n",
            "Epoch 46/100\n",
            "63/63 [==============================] - 1s 17ms/step - loss: 0.4572 - accuracy: 0.8989 - val_loss: 3.6161 - val_accuracy: 0.2200\n",
            "Epoch 47/100\n",
            "63/63 [==============================] - 1s 17ms/step - loss: 0.4283 - accuracy: 0.9077 - val_loss: 3.6919 - val_accuracy: 0.2060\n",
            "Epoch 48/100\n",
            "63/63 [==============================] - 1s 17ms/step - loss: 0.4625 - accuracy: 0.9039 - val_loss: 3.7639 - val_accuracy: 0.2100\n",
            "Epoch 49/100\n",
            "63/63 [==============================] - 1s 19ms/step - loss: 0.4596 - accuracy: 0.8979 - val_loss: 3.8298 - val_accuracy: 0.2080\n",
            "Epoch 50/100\n",
            "63/63 [==============================] - 1s 16ms/step - loss: 0.4161 - accuracy: 0.9169 - val_loss: 3.8989 - val_accuracy: 0.2180\n",
            "Epoch 51/100\n",
            "63/63 [==============================] - 1s 17ms/step - loss: 0.4001 - accuracy: 0.9185 - val_loss: 3.9629 - val_accuracy: 0.2060\n",
            "Epoch 52/100\n",
            "63/63 [==============================] - 1s 17ms/step - loss: 0.4040 - accuracy: 0.9052 - val_loss: 4.0120 - val_accuracy: 0.2100\n",
            "Epoch 53/100\n",
            "63/63 [==============================] - 1s 17ms/step - loss: 0.3798 - accuracy: 0.9218 - val_loss: 4.0644 - val_accuracy: 0.2160\n",
            "Epoch 54/100\n",
            "63/63 [==============================] - 1s 18ms/step - loss: 0.3674 - accuracy: 0.9290 - val_loss: 4.1028 - val_accuracy: 0.2100\n",
            "Epoch 55/100\n",
            "63/63 [==============================] - 1s 17ms/step - loss: 0.3518 - accuracy: 0.9292 - val_loss: 4.1971 - val_accuracy: 0.2160\n",
            "Epoch 56/100\n",
            "63/63 [==============================] - 1s 17ms/step - loss: 0.3531 - accuracy: 0.9308 - val_loss: 4.2661 - val_accuracy: 0.2080\n",
            "Epoch 57/100\n",
            "63/63 [==============================] - 1s 17ms/step - loss: 0.3366 - accuracy: 0.9336 - val_loss: 4.3145 - val_accuracy: 0.2100\n",
            "Epoch 58/100\n",
            "63/63 [==============================] - 1s 17ms/step - loss: 0.3100 - accuracy: 0.9389 - val_loss: 4.3855 - val_accuracy: 0.2080\n",
            "Epoch 59/100\n",
            "63/63 [==============================] - 1s 17ms/step - loss: 0.3006 - accuracy: 0.9514 - val_loss: 4.4652 - val_accuracy: 0.2100\n",
            "Epoch 60/100\n",
            "63/63 [==============================] - 1s 17ms/step - loss: 0.3022 - accuracy: 0.9432 - val_loss: 4.5154 - val_accuracy: 0.2060\n",
            "Epoch 61/100\n",
            "63/63 [==============================] - 1s 17ms/step - loss: 0.2998 - accuracy: 0.9402 - val_loss: 4.5705 - val_accuracy: 0.2160\n",
            "Epoch 62/100\n",
            "63/63 [==============================] - 1s 17ms/step - loss: 0.2988 - accuracy: 0.9376 - val_loss: 4.6352 - val_accuracy: 0.2100\n",
            "Epoch 63/100\n",
            "63/63 [==============================] - 1s 17ms/step - loss: 0.2711 - accuracy: 0.9482 - val_loss: 4.7098 - val_accuracy: 0.2140\n",
            "Epoch 64/100\n",
            "63/63 [==============================] - 1s 17ms/step - loss: 0.2569 - accuracy: 0.9570 - val_loss: 4.7904 - val_accuracy: 0.2060\n",
            "Epoch 65/100\n",
            "63/63 [==============================] - 1s 17ms/step - loss: 0.2757 - accuracy: 0.9508 - val_loss: 4.8305 - val_accuracy: 0.2060\n",
            "Epoch 66/100\n",
            "63/63 [==============================] - 1s 18ms/step - loss: 0.2505 - accuracy: 0.9507 - val_loss: 4.8946 - val_accuracy: 0.2060\n",
            "Epoch 67/100\n",
            "63/63 [==============================] - 1s 16ms/step - loss: 0.2412 - accuracy: 0.9552 - val_loss: 4.9720 - val_accuracy: 0.2060\n",
            "Epoch 68/100\n",
            "63/63 [==============================] - 1s 17ms/step - loss: 0.2363 - accuracy: 0.9671 - val_loss: 5.0151 - val_accuracy: 0.1920\n",
            "Epoch 69/100\n",
            "63/63 [==============================] - 1s 17ms/step - loss: 0.2291 - accuracy: 0.9614 - val_loss: 5.0270 - val_accuracy: 0.2040\n",
            "Epoch 70/100\n",
            "63/63 [==============================] - 1s 17ms/step - loss: 0.2225 - accuracy: 0.9658 - val_loss: 5.1246 - val_accuracy: 0.2000\n",
            "Epoch 71/100\n",
            "63/63 [==============================] - 1s 17ms/step - loss: 0.2122 - accuracy: 0.9643 - val_loss: 5.1839 - val_accuracy: 0.1900\n",
            "Epoch 72/100\n",
            "63/63 [==============================] - 1s 17ms/step - loss: 0.2199 - accuracy: 0.9711 - val_loss: 5.2442 - val_accuracy: 0.1900\n",
            "Epoch 73/100\n",
            "63/63 [==============================] - 1s 17ms/step - loss: 0.2173 - accuracy: 0.9584 - val_loss: 5.3321 - val_accuracy: 0.2000\n",
            "Epoch 74/100\n",
            "63/63 [==============================] - 1s 17ms/step - loss: 0.1950 - accuracy: 0.9651 - val_loss: 5.3830 - val_accuracy: 0.1980\n",
            "Epoch 75/100\n",
            "63/63 [==============================] - 1s 17ms/step - loss: 0.2065 - accuracy: 0.9661 - val_loss: 5.4391 - val_accuracy: 0.2060\n",
            "Epoch 76/100\n",
            "63/63 [==============================] - 1s 17ms/step - loss: 0.1805 - accuracy: 0.9775 - val_loss: 5.5416 - val_accuracy: 0.2060\n",
            "Epoch 77/100\n",
            "63/63 [==============================] - 1s 17ms/step - loss: 0.1736 - accuracy: 0.9763 - val_loss: 5.6219 - val_accuracy: 0.1980\n",
            "Epoch 78/100\n",
            "63/63 [==============================] - 1s 17ms/step - loss: 0.1825 - accuracy: 0.9641 - val_loss: 5.6940 - val_accuracy: 0.2080\n",
            "Epoch 79/100\n",
            "63/63 [==============================] - 1s 17ms/step - loss: 0.1531 - accuracy: 0.9782 - val_loss: 5.7693 - val_accuracy: 0.2160\n",
            "Epoch 80/100\n",
            "63/63 [==============================] - 1s 17ms/step - loss: 0.1618 - accuracy: 0.9780 - val_loss: 5.8362 - val_accuracy: 0.1980\n",
            "Epoch 81/100\n",
            "63/63 [==============================] - 1s 17ms/step - loss: 0.1570 - accuracy: 0.9714 - val_loss: 5.8877 - val_accuracy: 0.1960\n",
            "Epoch 82/100\n",
            "63/63 [==============================] - 1s 17ms/step - loss: 0.1519 - accuracy: 0.9761 - val_loss: 5.9524 - val_accuracy: 0.2000\n",
            "Epoch 83/100\n",
            "63/63 [==============================] - 1s 17ms/step - loss: 0.1627 - accuracy: 0.9837 - val_loss: 6.0052 - val_accuracy: 0.1980\n",
            "Epoch 84/100\n",
            "63/63 [==============================] - 1s 17ms/step - loss: 0.1475 - accuracy: 0.9772 - val_loss: 6.0650 - val_accuracy: 0.2080\n",
            "Epoch 85/100\n",
            "63/63 [==============================] - 1s 17ms/step - loss: 0.1341 - accuracy: 0.9785 - val_loss: 6.1343 - val_accuracy: 0.2120\n",
            "Epoch 86/100\n",
            "63/63 [==============================] - 1s 17ms/step - loss: 0.1412 - accuracy: 0.9797 - val_loss: 6.1584 - val_accuracy: 0.2200\n",
            "Epoch 87/100\n",
            "63/63 [==============================] - 1s 17ms/step - loss: 0.1418 - accuracy: 0.9841 - val_loss: 6.2163 - val_accuracy: 0.2120\n",
            "Epoch 88/100\n",
            "63/63 [==============================] - 1s 17ms/step - loss: 0.1357 - accuracy: 0.9833 - val_loss: 6.2771 - val_accuracy: 0.2180\n",
            "Epoch 89/100\n",
            "63/63 [==============================] - 1s 17ms/step - loss: 0.1258 - accuracy: 0.9857 - val_loss: 6.3285 - val_accuracy: 0.2160\n",
            "Epoch 90/100\n",
            "63/63 [==============================] - 1s 17ms/step - loss: 0.1289 - accuracy: 0.9827 - val_loss: 6.3772 - val_accuracy: 0.2080\n",
            "Epoch 91/100\n",
            "63/63 [==============================] - 1s 17ms/step - loss: 0.1301 - accuracy: 0.9818 - val_loss: 6.4597 - val_accuracy: 0.2120\n",
            "Epoch 92/100\n",
            "63/63 [==============================] - 1s 17ms/step - loss: 0.1103 - accuracy: 0.9881 - val_loss: 6.5190 - val_accuracy: 0.2080\n",
            "Epoch 93/100\n",
            "63/63 [==============================] - 1s 17ms/step - loss: 0.1143 - accuracy: 0.9867 - val_loss: 6.6098 - val_accuracy: 0.2120\n",
            "Epoch 94/100\n",
            "63/63 [==============================] - 1s 17ms/step - loss: 0.1170 - accuracy: 0.9859 - val_loss: 6.6690 - val_accuracy: 0.2180\n",
            "Epoch 95/100\n",
            "63/63 [==============================] - 1s 17ms/step - loss: 0.1089 - accuracy: 0.9881 - val_loss: 6.7037 - val_accuracy: 0.2120\n",
            "Epoch 96/100\n",
            "63/63 [==============================] - 1s 17ms/step - loss: 0.0999 - accuracy: 0.9915 - val_loss: 6.7456 - val_accuracy: 0.2160\n",
            "Epoch 97/100\n",
            "63/63 [==============================] - 1s 17ms/step - loss: 0.1065 - accuracy: 0.9870 - val_loss: 6.7835 - val_accuracy: 0.2180\n",
            "Epoch 98/100\n",
            "63/63 [==============================] - 1s 17ms/step - loss: 0.1059 - accuracy: 0.9884 - val_loss: 6.8348 - val_accuracy: 0.2080\n",
            "Epoch 99/100\n",
            "63/63 [==============================] - 1s 17ms/step - loss: 0.0995 - accuracy: 0.9861 - val_loss: 6.9094 - val_accuracy: 0.2200\n",
            "Epoch 100/100\n",
            "63/63 [==============================] - 1s 20ms/step - loss: 0.0864 - accuracy: 0.9922 - val_loss: 6.9819 - val_accuracy: 0.2100\n"
          ],
          "name": "stdout"
        }
      ]
    },
    {
      "cell_type": "markdown",
      "metadata": {
        "id": "hrZn_KP53nSC"
      },
      "source": [
        "&#x270d;  3.3) Plot your accuracy"
      ]
    },
    {
      "cell_type": "code",
      "metadata": {
        "id": "4r6iQiYsAZYA",
        "colab": {
          "base_uri": "https://localhost:8080/",
          "height": 350
        },
        "outputId": "740ff672-5a5e-424a-a2fb-42a20447161c"
      },
      "source": [
        "# My solutions\n",
        "figure, axis = plt.subplots(1, 2, figsize=(18,5))\n",
        "axis = axis.ravel()\n",
        "\n",
        "for i,element in enumerate(['accuracy', 'loss']):\n",
        "    axis[i].plot(history.history[element])\n",
        "    axis[i].plot(history.history['val_' + element])\n",
        "    axis[i].set_title('Model {}'.format(element))\n",
        "    axis[i].set_xlabel('epochs')\n",
        "    axis[i].set_ylabel(element)\n",
        "    axis[i].legend(['train', 'val'])"
      ],
      "execution_count": 38,
      "outputs": [
        {
          "output_type": "display_data",
          "data": {
            "image/png": "[encoded data removed]",
            "text/plain": [
              "<Figure size 1296x360 with 2 Axes>"
            ]
          },
          "metadata": {
            "tags": [],
            "needs_background": "light"
          }
        }
      ]
    },
    {
      "cell_type": "code",
      "metadata": {
        "scrolled": true,
        "id": "kwsDR0qYg_5H",
        "colab": {
          "base_uri": "https://localhost:8080/",
          "height": 350
        },
        "outputId": "899fdc76-51ef-4f4c-f6eb-039bef1b5cdf"
      },
      "source": [
        "def plot_model(history):\n",
        "    tr_loss = history.history['loss']\n",
        "    tr_accuracy = history.history['accuracy']\n",
        "    val_loss = history.history['val_loss']\n",
        "    val_accuracy = history.history['val_accuracy']\n",
        "    epochs = range(1, len(tr_loss)+1)\n",
        "    plt.figure(figsize=(10, 5))\n",
        "    plt.subplot(1,2,1)\n",
        "    plt.plot(epochs, tr_loss,'r')\n",
        "    plt.plot(epochs, val_loss,'b')\n",
        "    plt.title('Model loss')\n",
        "    plt.ylabel('Loss')\n",
        "    plt.xlabel('Epoch')\n",
        "    plt.legend(['Training', 'Validation'], loc='best')\n",
        "    plt.subplot(1,2,2)\n",
        "    plt.plot(epochs, tr_accuracy,'r')\n",
        "    plt.plot(epochs, val_accuracy,'b')\n",
        "    plt.title('Model Accuracy')\n",
        "    plt.ylabel('Accuracy')\n",
        "    plt.xlabel('Epoch')\n",
        "    plt.legend(['Training', 'Validation'], loc='best')\n",
        "    plt.show()\n",
        "plot_model(history)"
      ],
      "execution_count": 39,
      "outputs": [
        {
          "output_type": "display_data",
          "data": {
            "image/png": "[encoded data removed]",
            "text/plain": [
              "<Figure size 720x360 with 2 Axes>"
            ]
          },
          "metadata": {
            "tags": [],
            "needs_background": "light"
          }
        }
      ]
    },
    {
      "cell_type": "markdown",
      "metadata": {
        "id": "C-yE2SVf3q5L"
      },
      "source": [
        "&#x270d;  3.4) Evaluate your model on your test dataset"
      ]
    },
    {
      "cell_type": "code",
      "metadata": {
        "id": "6O1Ko6jGg_5K",
        "colab": {
          "base_uri": "https://localhost:8080/"
        },
        "outputId": "0f334b5a-414e-44cd-e145-558c65e927bc"
      },
      "source": [
        "# Evaluate your model over test set\n",
        "\n",
        "score, acc = model.evaluate(X_test, y_test, verbose=0)\n",
        "print('Test score:', score)\n",
        "print('Test accuracy:', acc)"
      ],
      "execution_count": 40,
      "outputs": [
        {
          "output_type": "stream",
          "text": [
            "Test score: 16.41413116455078\n",
            "Test accuracy: 0.18400000035762787\n"
          ],
          "name": "stdout"
        }
      ]
    },
    {
      "cell_type": "markdown",
      "metadata": {
        "id": "xzPxcO9ig_5N"
      },
      "source": [
        "## 4) Time-Frequency Domain Model <a id='time_freq_model'></a>"
      ]
    },
    {
      "cell_type": "markdown",
      "metadata": {
        "id": "3wI0sZ61g_5O"
      },
      "source": [
        "&#x270d; 4.1) Now, create a model based on time-frequency domain input signals and evaluate its performance.\n",
        "\n",
        "`np.abs(librosa.stft(X))` gives you the frequency domain."
      ]
    },
    {
      "cell_type": "code",
      "metadata": {
        "id": "fsd9-arNF_I3"
      },
      "source": [
        "audio_duration_sec = 1\n",
        "pad = lambda a, n: a[:n] if a.shape[0] > n else np.hstack((a, np.zeros(n - a.shape[0])))\n",
        "X_train, y_train = [], []\n",
        "X_test, y_test = [], []\n",
        "for audio_file in audio_files:\n",
        "    #print(audio_file)\n",
        "    audio, sr = librosa.load(audio_path +'/'+ audio_file, sr = None)\n",
        "    X = pad(audio, int(audio_duration_sec*sr))\n",
        "    #X = pad_sequences([audio], maxlen=sr*audio_duration_sec, padding='post', truncating='post')\n",
        "    #X = np.pad([audio], maxlen=sr*audio_duration_sec, padding='post', truncating='post')\n",
        "    label = audio_file.split('_')[0]\n",
        "    speaker = audio_file.split('_')[1]\n",
        "    if (speaker=='jackson'):\n",
        "        X_test.append(np.abs(librosa.stft(X)))\n",
        "        y_test.append(label)\n",
        "    else:\n",
        "        X_train.append(np.abs(librosa.stft(X)))\n",
        "        y_train.append(label)\n",
        "X_train = np.asarray(X_train)\n",
        "y_train = np.asarray(y_train)\n",
        "X_test = np.asarray(X_test)\n",
        "y_test = np.asarray(y_test)"
      ],
      "execution_count": 41,
      "outputs": []
    },
    {
      "cell_type": "code",
      "metadata": {
        "id": "GK_PFsWpg_5T",
        "colab": {
          "base_uri": "https://localhost:8080/"
        },
        "outputId": "a733d06b-638a-4c31-f8e8-922e2b68e2bf"
      },
      "source": [
        "print('X_train shape:', X_train.shape)\n",
        "print('X_test shape:', X_test.shape)\n",
        "\n",
        "print('y_train shape:', y_train.shape)\n",
        "print('y_test shape:', y_test.shape)"
      ],
      "execution_count": 42,
      "outputs": [
        {
          "output_type": "stream",
          "text": [
            "X_train shape: (2500, 1025, 16)\n",
            "X_test shape: (500, 1025, 16)\n",
            "y_train shape: (2500,)\n",
            "y_test shape: (500,)\n"
          ],
          "name": "stdout"
        }
      ]
    },
    {
      "cell_type": "code",
      "metadata": {
        "id": "0Dd1rUhhQbVU",
        "colab": {
          "base_uri": "https://localhost:8080/"
        },
        "outputId": "bc60224c-9f26-4005-f350-3bc699eb5cc8"
      },
      "source": [
        "X_train = X_train.reshape(-1, X_train.shape[1], X_train.shape[2], 1)\n",
        "X_test = X_test.reshape(-1, X_test.shape[1], X_test.shape[2], 1)\n",
        "print('X_train shape:', X_train.shape)\n",
        "print('X_test shape:', X_test.shape)"
      ],
      "execution_count": 43,
      "outputs": [
        {
          "output_type": "stream",
          "text": [
            "X_train shape: (2500, 1025, 16, 1)\n",
            "X_test shape: (500, 1025, 16, 1)\n"
          ],
          "name": "stdout"
        }
      ]
    },
    {
      "cell_type": "code",
      "metadata": {
        "id": "xP3gsxTiQgOz",
        "colab": {
          "base_uri": "https://localhost:8080/"
        },
        "outputId": "11897aec-ff36-4b46-fdc9-0e0495bd8e12"
      },
      "source": [
        "y_train = to_categorical(y_train)\n",
        "y_test = to_categorical(y_test)\n",
        "print('y_train shape:', y_train.shape)\n",
        "print('y_test shape:', y_test.shape)"
      ],
      "execution_count": 44,
      "outputs": [
        {
          "output_type": "stream",
          "text": [
            "y_train shape: (2500, 10)\n",
            "y_test shape: (500, 10)\n"
          ],
          "name": "stdout"
        }
      ]
    },
    {
      "cell_type": "markdown",
      "metadata": {
        "id": "yStskomq33H5"
      },
      "source": [
        "&#x270d;  4.2) Create your model"
      ]
    },
    {
      "cell_type": "code",
      "metadata": {
        "id": "l0bopUFWVx_W"
      },
      "source": [
        "import keras\n",
        "from keras.models import Sequential\n",
        "from keras.layers import Conv2D, MaxPooling2D, Dense, Flatten, Dropout\n",
        "from keras.optimizers import Adam\n",
        "from keras.callbacks import TensorBoard"
      ],
      "execution_count": 45,
      "outputs": []
    },
    {
      "cell_type": "code",
      "metadata": {
        "id": "lNBsaXL9g_5W",
        "colab": {
          "base_uri": "https://localhost:8080/"
        },
        "outputId": "3ebc0698-816d-4c26-bedb-968ea13aa283"
      },
      "source": [
        "cnn_model = Sequential()\n",
        "\n",
        "# Try 32 fliters first then 64\n",
        "cnn_model.add(Conv2D(32,5, input_shape = (X_train[0].shape), activation='relu'))\n",
        "cnn_model.add(MaxPooling2D(pool_size = (2, 2), strides = (2, 2)))\n",
        "\n",
        "#cnn_model.add(Dropout(0.25))\n",
        "\n",
        "cnn_model.add(Conv2D(64,3, activation='relu'))\n",
        "cnn_model.add(MaxPooling2D(pool_size = (2, 2), strides = (2, 2)))\n",
        "#cnn_model.add(Dropout(0.25))\n",
        "\n",
        "cnn_model.add(Flatten())\n",
        "#cnn_model.add(Dense(output_dim = 32, activation = 'relu'))\n",
        "#cnn_model.add(Dense(output_dim = 10, activation = 'softmax'))\n",
        "cnn_model.add(Dense(10,activation='softmax'))\n",
        "\n",
        "#flatten\n",
        "#cnn_model.add(Flatten())\n",
        "cnn_model.add(Dense(10, activation='softmax'))\n",
        "#dense layer 10 nodes, softmax\n",
        "cnn_model.summary()"
      ],
      "execution_count": 46,
      "outputs": [
        {
          "output_type": "stream",
          "text": [
            "Model: \"sequential_2\"\n",
            "_________________________________________________________________\n",
            "Layer (type)                 Output Shape              Param #   \n",
            "=================================================================\n",
            "conv2d (Conv2D)              (None, 1021, 12, 32)      832       \n",
            "_________________________________________________________________\n",
            "max_pooling2d (MaxPooling2D) (None, 510, 6, 32)        0         \n",
            "_________________________________________________________________\n",
            "conv2d_1 (Conv2D)            (None, 508, 4, 64)        18496     \n",
            "_________________________________________________________________\n",
            "max_pooling2d_1 (MaxPooling2 (None, 254, 2, 64)        0         \n",
            "_________________________________________________________________\n",
            "flatten (Flatten)            (None, 32512)             0         \n",
            "_________________________________________________________________\n",
            "dense_8 (Dense)              (None, 10)                325130    \n",
            "_________________________________________________________________\n",
            "dense_9 (Dense)              (None, 10)                110       \n",
            "=================================================================\n",
            "Total params: 344,568\n",
            "Trainable params: 344,568\n",
            "Non-trainable params: 0\n",
            "_________________________________________________________________\n"
          ],
          "name": "stdout"
        }
      ]
    },
    {
      "cell_type": "markdown",
      "metadata": {
        "id": "efnVlnm438cc"
      },
      "source": [
        "&#x270d;  4.3) Compile your model"
      ]
    },
    {
      "cell_type": "code",
      "metadata": {
        "id": "2TuUhNu8g_5h",
        "colab": {
          "base_uri": "https://localhost:8080/"
        },
        "outputId": "c81ed5c3-8821-45ab-e7a6-0aa03debd567"
      },
      "source": [
        "# Compile the model\n",
        "cnn_model.compile(Adam(lr=0.001), loss='binary_crossentropy', metrics=['accuracy'])\n",
        "\n",
        "# Fit the model\n",
        "history1 = cnn_model.fit(X_train, y_train, validation_split=0.2, batch_size=25, epochs=10, shuffle=True, verbose=2)"
      ],
      "execution_count": 47,
      "outputs": [
        {
          "output_type": "stream",
          "text": [
            "Epoch 1/10\n",
            "80/80 - 28s - loss: 0.6397 - accuracy: 0.2125 - val_loss: 0.6107 - val_accuracy: 0.2480\n",
            "Epoch 2/10\n",
            "80/80 - 27s - loss: 0.5853 - accuracy: 0.2340 - val_loss: 0.5624 - val_accuracy: 0.2320\n",
            "Epoch 3/10\n",
            "80/80 - 27s - loss: 0.5401 - accuracy: 0.2285 - val_loss: 0.5202 - val_accuracy: 0.2500\n",
            "Epoch 4/10\n",
            "80/80 - 27s - loss: 0.5026 - accuracy: 0.2270 - val_loss: 0.4858 - val_accuracy: 0.2500\n",
            "Epoch 5/10\n",
            "80/80 - 27s - loss: 0.4703 - accuracy: 0.2300 - val_loss: 0.4573 - val_accuracy: 0.2100\n",
            "Epoch 6/10\n",
            "80/80 - 26s - loss: 0.4443 - accuracy: 0.2185 - val_loss: 0.4309 - val_accuracy: 0.2600\n",
            "Epoch 7/10\n",
            "80/80 - 26s - loss: 0.4195 - accuracy: 0.2335 - val_loss: 0.4108 - val_accuracy: 0.2580\n",
            "Epoch 8/10\n",
            "80/80 - 26s - loss: 0.4019 - accuracy: 0.2125 - val_loss: 0.3931 - val_accuracy: 0.2380\n",
            "Epoch 9/10\n",
            "80/80 - 26s - loss: 0.3850 - accuracy: 0.2250 - val_loss: 0.3775 - val_accuracy: 0.2260\n",
            "Epoch 10/10\n",
            "80/80 - 26s - loss: 0.3690 - accuracy: 0.2385 - val_loss: 0.3636 - val_accuracy: 0.2580\n"
          ],
          "name": "stdout"
        }
      ]
    },
    {
      "cell_type": "markdown",
      "metadata": {
        "id": "meTlMkmi4AL7"
      },
      "source": [
        "&#x270d;  4.4) Plot your accuracy"
      ]
    },
    {
      "cell_type": "code",
      "metadata": {
        "id": "zSmF-rwDg_5j",
        "colab": {
          "base_uri": "https://localhost:8080/",
          "height": 350
        },
        "outputId": "304ffec6-4bd0-4fb8-8656-b69fc55b2362"
      },
      "source": [
        "def plot_model(history):\n",
        "    tr_loss = history1.history['loss']\n",
        "    tr_accuracy = history1.history['accuracy']\n",
        "    val_loss = history1.history['val_loss']\n",
        "    val_accuracy = history1.history['val_accuracy']\n",
        "    epochs = range(1, len(tr_loss)+1)\n",
        "    plt.figure(figsize=(10, 5))\n",
        "    plt.subplot(1,2,1)\n",
        "    plt.plot(epochs, tr_loss,'r')\n",
        "    plt.plot(epochs, val_loss,'b')\n",
        "    plt.title('Model loss')\n",
        "    plt.ylabel('Loss')\n",
        "    plt.xlabel('Epoch')\n",
        "    plt.legend(['Training', 'Validation'], loc='best')\n",
        "    plt.subplot(1,2,2)\n",
        "    plt.plot(epochs, tr_accuracy,'r')\n",
        "    plt.plot(epochs, val_accuracy,'b')\n",
        "    plt.title('Model Accuracy')\n",
        "    plt.ylabel('Accuracy')\n",
        "    plt.xlabel('Epoch')\n",
        "    plt.legend(['Training', 'Validation'], loc='best')\n",
        "    plt.show()\n",
        "plot_model(history1)"
      ],
      "execution_count": 48,
      "outputs": [
        {
          "output_type": "display_data",
          "data": {
            "image/png": "[encoded data removed]",
            "text/plain": [
              "<Figure size 720x360 with 2 Axes>"
            ]
          },
          "metadata": {
            "tags": [],
            "needs_background": "light"
          }
        }
      ]
    },
    {
      "cell_type": "markdown",
      "metadata": {
        "id": "aasx5HbY4Hv2"
      },
      "source": [
        "&#x270d;  4.5) Evaluate your model on your test dataset"
      ]
    },
    {
      "cell_type": "code",
      "metadata": {
        "id": "zjiFbXu3g_5l",
        "colab": {
          "base_uri": "https://localhost:8080/"
        },
        "outputId": "eb9079d2-5a33-47da-b295-95958c907303"
      },
      "source": [
        "score, acc = cnn_model.evaluate(X_test, y_test, verbose=0)\n",
        "print('Test score:', score)\n",
        "print('Test accuracy:', acc)"
      ],
      "execution_count": 49,
      "outputs": [
        {
          "output_type": "stream",
          "text": [
            "Test score: 0.3731136918067932\n",
            "Test accuracy: 0.20399999618530273\n"
          ],
          "name": "stdout"
        }
      ]
    }
  ]
}